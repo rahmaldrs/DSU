{
 "cells": [
  {
   "cell_type": "code",
   "execution_count": 1,
   "metadata": {},
   "outputs": [],
   "source": [
    "import warnings; warnings.simplefilter('ignore')\n",
    "import pandas as pd, numpy as np, matplotlib.pyplot as plt, seaborn as sns\n",
    "from matplotlib.pyplot import figure\n",
    "from scipy.stats.stats import pearsonr\n"
   ]
  },
  {
   "cell_type": "code",
   "execution_count": 83,
   "metadata": {},
   "outputs": [
    {
     "name": "stdout",
     "output_type": "stream",
     "text": [
      "Baris =  7787 , Kolom =  12\n"
     ]
    },
    {
     "data": {
      "text/html": [
       "<div>\n",
       "<style scoped>\n",
       "    .dataframe tbody tr th:only-of-type {\n",
       "        vertical-align: middle;\n",
       "    }\n",
       "\n",
       "    .dataframe tbody tr th {\n",
       "        vertical-align: top;\n",
       "    }\n",
       "\n",
       "    .dataframe thead th {\n",
       "        text-align: right;\n",
       "    }\n",
       "</style>\n",
       "<table border=\"1\" class=\"dataframe\">\n",
       "  <thead>\n",
       "    <tr style=\"text-align: right;\">\n",
       "      <th></th>\n",
       "      <th>show_id</th>\n",
       "      <th>type</th>\n",
       "      <th>title</th>\n",
       "      <th>director</th>\n",
       "      <th>cast</th>\n",
       "      <th>country</th>\n",
       "      <th>date_added</th>\n",
       "      <th>release_year</th>\n",
       "      <th>rating</th>\n",
       "      <th>duration</th>\n",
       "      <th>listed_in</th>\n",
       "      <th>description</th>\n",
       "    </tr>\n",
       "  </thead>\n",
       "  <tbody>\n",
       "    <tr>\n",
       "      <td>7777</td>\n",
       "      <td>s7778</td>\n",
       "      <td>TV Show</td>\n",
       "      <td>Zombie Dumb</td>\n",
       "      <td>NaN</td>\n",
       "      <td>NaN</td>\n",
       "      <td>NaN</td>\n",
       "      <td>July 1, 2019</td>\n",
       "      <td>2018</td>\n",
       "      <td>TV-Y7</td>\n",
       "      <td>2 Seasons</td>\n",
       "      <td>Kids' TV, Korean TV Shows, TV Comedies</td>\n",
       "      <td>While living alone in a spooky town, a young g...</td>\n",
       "    </tr>\n",
       "    <tr>\n",
       "      <td>7778</td>\n",
       "      <td>s7779</td>\n",
       "      <td>Movie</td>\n",
       "      <td>Zombieland</td>\n",
       "      <td>Ruben Fleischer</td>\n",
       "      <td>Jesse Eisenberg, Woody Harrelson, Emma Stone, ...</td>\n",
       "      <td>United States</td>\n",
       "      <td>November 1, 2019</td>\n",
       "      <td>2009</td>\n",
       "      <td>R</td>\n",
       "      <td>88 min</td>\n",
       "      <td>Comedies, Horror Movies</td>\n",
       "      <td>Looking to survive in a world taken over by zo...</td>\n",
       "    </tr>\n",
       "    <tr>\n",
       "      <td>7779</td>\n",
       "      <td>s7780</td>\n",
       "      <td>TV Show</td>\n",
       "      <td>Zona Rosa</td>\n",
       "      <td>NaN</td>\n",
       "      <td>Manu NNa, Ana Julia Yeyé, Ray Contreras, Pablo...</td>\n",
       "      <td>Mexico</td>\n",
       "      <td>November 26, 2019</td>\n",
       "      <td>2019</td>\n",
       "      <td>TV-MA</td>\n",
       "      <td>1 Season</td>\n",
       "      <td>International TV Shows, Spanish-Language TV Sh...</td>\n",
       "      <td>An assortment of talent takes the stage for a ...</td>\n",
       "    </tr>\n",
       "    <tr>\n",
       "      <td>7780</td>\n",
       "      <td>s7781</td>\n",
       "      <td>Movie</td>\n",
       "      <td>Zoo</td>\n",
       "      <td>Shlok Sharma</td>\n",
       "      <td>Shashank Arora, Shweta Tripathi, Rahul Kumar, ...</td>\n",
       "      <td>India</td>\n",
       "      <td>July 1, 2018</td>\n",
       "      <td>2018</td>\n",
       "      <td>TV-MA</td>\n",
       "      <td>94 min</td>\n",
       "      <td>Dramas, Independent Movies, International Movies</td>\n",
       "      <td>A drug dealer starts having doubts about his t...</td>\n",
       "    </tr>\n",
       "    <tr>\n",
       "      <td>7781</td>\n",
       "      <td>s7782</td>\n",
       "      <td>Movie</td>\n",
       "      <td>Zoom</td>\n",
       "      <td>Peter Hewitt</td>\n",
       "      <td>Tim Allen, Courteney Cox, Chevy Chase, Kate Ma...</td>\n",
       "      <td>United States</td>\n",
       "      <td>January 11, 2020</td>\n",
       "      <td>2006</td>\n",
       "      <td>PG</td>\n",
       "      <td>88 min</td>\n",
       "      <td>Children &amp; Family Movies, Comedies</td>\n",
       "      <td>Dragged from civilian life, a former superhero...</td>\n",
       "    </tr>\n",
       "    <tr>\n",
       "      <td>7782</td>\n",
       "      <td>s7783</td>\n",
       "      <td>Movie</td>\n",
       "      <td>Zozo</td>\n",
       "      <td>Josef Fares</td>\n",
       "      <td>Imad Creidi, Antoinette Turk, Elias Gergi, Car...</td>\n",
       "      <td>Sweden, Czech Republic, United Kingdom, Denmar...</td>\n",
       "      <td>October 19, 2020</td>\n",
       "      <td>2005</td>\n",
       "      <td>TV-MA</td>\n",
       "      <td>99 min</td>\n",
       "      <td>Dramas, International Movies</td>\n",
       "      <td>When Lebanon's Civil War deprives Zozo of his ...</td>\n",
       "    </tr>\n",
       "    <tr>\n",
       "      <td>7783</td>\n",
       "      <td>s7784</td>\n",
       "      <td>Movie</td>\n",
       "      <td>Zubaan</td>\n",
       "      <td>Mozez Singh</td>\n",
       "      <td>Vicky Kaushal, Sarah-Jane Dias, Raaghav Chanan...</td>\n",
       "      <td>India</td>\n",
       "      <td>March 2, 2019</td>\n",
       "      <td>2015</td>\n",
       "      <td>TV-14</td>\n",
       "      <td>111 min</td>\n",
       "      <td>Dramas, International Movies, Music &amp; Musicals</td>\n",
       "      <td>A scrappy but poor boy worms his way into a ty...</td>\n",
       "    </tr>\n",
       "    <tr>\n",
       "      <td>7784</td>\n",
       "      <td>s7785</td>\n",
       "      <td>Movie</td>\n",
       "      <td>Zulu Man in Japan</td>\n",
       "      <td>NaN</td>\n",
       "      <td>Nasty C</td>\n",
       "      <td>NaN</td>\n",
       "      <td>September 25, 2020</td>\n",
       "      <td>2019</td>\n",
       "      <td>TV-MA</td>\n",
       "      <td>44 min</td>\n",
       "      <td>Documentaries, International Movies, Music &amp; M...</td>\n",
       "      <td>In this documentary, South African rapper Nast...</td>\n",
       "    </tr>\n",
       "    <tr>\n",
       "      <td>7785</td>\n",
       "      <td>s7786</td>\n",
       "      <td>TV Show</td>\n",
       "      <td>Zumbo's Just Desserts</td>\n",
       "      <td>NaN</td>\n",
       "      <td>Adriano Zumbo, Rachel Khoo</td>\n",
       "      <td>Australia</td>\n",
       "      <td>October 31, 2020</td>\n",
       "      <td>2019</td>\n",
       "      <td>TV-PG</td>\n",
       "      <td>1 Season</td>\n",
       "      <td>International TV Shows, Reality TV</td>\n",
       "      <td>Dessert wizard Adriano Zumbo looks for the nex...</td>\n",
       "    </tr>\n",
       "    <tr>\n",
       "      <td>7786</td>\n",
       "      <td>s7787</td>\n",
       "      <td>Movie</td>\n",
       "      <td>ZZ TOP: THAT LITTLE OL' BAND FROM TEXAS</td>\n",
       "      <td>Sam Dunn</td>\n",
       "      <td>NaN</td>\n",
       "      <td>United Kingdom, Canada, United States</td>\n",
       "      <td>March 1, 2020</td>\n",
       "      <td>2019</td>\n",
       "      <td>TV-MA</td>\n",
       "      <td>90 min</td>\n",
       "      <td>Documentaries, Music &amp; Musicals</td>\n",
       "      <td>This documentary delves into the mystique behi...</td>\n",
       "    </tr>\n",
       "  </tbody>\n",
       "</table>\n",
       "</div>"
      ],
      "text/plain": [
       "     show_id     type                                    title  \\\n",
       "7777   s7778  TV Show                              Zombie Dumb   \n",
       "7778   s7779    Movie                               Zombieland   \n",
       "7779   s7780  TV Show                                Zona Rosa   \n",
       "7780   s7781    Movie                                      Zoo   \n",
       "7781   s7782    Movie                                     Zoom   \n",
       "7782   s7783    Movie                                     Zozo   \n",
       "7783   s7784    Movie                                   Zubaan   \n",
       "7784   s7785    Movie                        Zulu Man in Japan   \n",
       "7785   s7786  TV Show                    Zumbo's Just Desserts   \n",
       "7786   s7787    Movie  ZZ TOP: THAT LITTLE OL' BAND FROM TEXAS   \n",
       "\n",
       "             director                                               cast  \\\n",
       "7777              NaN                                                NaN   \n",
       "7778  Ruben Fleischer  Jesse Eisenberg, Woody Harrelson, Emma Stone, ...   \n",
       "7779              NaN  Manu NNa, Ana Julia Yeyé, Ray Contreras, Pablo...   \n",
       "7780     Shlok Sharma  Shashank Arora, Shweta Tripathi, Rahul Kumar, ...   \n",
       "7781     Peter Hewitt  Tim Allen, Courteney Cox, Chevy Chase, Kate Ma...   \n",
       "7782      Josef Fares  Imad Creidi, Antoinette Turk, Elias Gergi, Car...   \n",
       "7783      Mozez Singh  Vicky Kaushal, Sarah-Jane Dias, Raaghav Chanan...   \n",
       "7784              NaN                                            Nasty C   \n",
       "7785              NaN                         Adriano Zumbo, Rachel Khoo   \n",
       "7786         Sam Dunn                                                NaN   \n",
       "\n",
       "                                                country          date_added  \\\n",
       "7777                                                NaN        July 1, 2019   \n",
       "7778                                      United States    November 1, 2019   \n",
       "7779                                             Mexico   November 26, 2019   \n",
       "7780                                              India        July 1, 2018   \n",
       "7781                                      United States    January 11, 2020   \n",
       "7782  Sweden, Czech Republic, United Kingdom, Denmar...    October 19, 2020   \n",
       "7783                                              India       March 2, 2019   \n",
       "7784                                                NaN  September 25, 2020   \n",
       "7785                                          Australia    October 31, 2020   \n",
       "7786              United Kingdom, Canada, United States       March 1, 2020   \n",
       "\n",
       "      release_year rating   duration  \\\n",
       "7777          2018  TV-Y7  2 Seasons   \n",
       "7778          2009      R     88 min   \n",
       "7779          2019  TV-MA   1 Season   \n",
       "7780          2018  TV-MA     94 min   \n",
       "7781          2006     PG     88 min   \n",
       "7782          2005  TV-MA     99 min   \n",
       "7783          2015  TV-14    111 min   \n",
       "7784          2019  TV-MA     44 min   \n",
       "7785          2019  TV-PG   1 Season   \n",
       "7786          2019  TV-MA     90 min   \n",
       "\n",
       "                                              listed_in  \\\n",
       "7777             Kids' TV, Korean TV Shows, TV Comedies   \n",
       "7778                            Comedies, Horror Movies   \n",
       "7779  International TV Shows, Spanish-Language TV Sh...   \n",
       "7780   Dramas, Independent Movies, International Movies   \n",
       "7781                 Children & Family Movies, Comedies   \n",
       "7782                       Dramas, International Movies   \n",
       "7783     Dramas, International Movies, Music & Musicals   \n",
       "7784  Documentaries, International Movies, Music & M...   \n",
       "7785                 International TV Shows, Reality TV   \n",
       "7786                    Documentaries, Music & Musicals   \n",
       "\n",
       "                                            description  \n",
       "7777  While living alone in a spooky town, a young g...  \n",
       "7778  Looking to survive in a world taken over by zo...  \n",
       "7779  An assortment of talent takes the stage for a ...  \n",
       "7780  A drug dealer starts having doubts about his t...  \n",
       "7781  Dragged from civilian life, a former superhero...  \n",
       "7782  When Lebanon's Civil War deprives Zozo of his ...  \n",
       "7783  A scrappy but poor boy worms his way into a ty...  \n",
       "7784  In this documentary, South African rapper Nast...  \n",
       "7785  Dessert wizard Adriano Zumbo looks for the nex...  \n",
       "7786  This documentary delves into the mystique behi...  "
      ]
     },
     "execution_count": 83,
     "metadata": {},
     "output_type": "execute_result"
    }
   ],
   "source": [
    "data = pd.read_csv('Kelompok 4 Netflix Shows.csv')\n",
    "B, K = data.shape\n",
    "print('Baris = ', B, ', Kolom = ', K)\n",
    "data.tail(10)\n"
   ]
  },
  {
   "cell_type": "code",
   "execution_count": null,
   "metadata": {},
   "outputs": [],
   "source": []
  },
  {
   "cell_type": "markdown",
   "metadata": {},
   "source": [
    "kesimpulan yang bisa dilihat\n",
    "1. year reales\n",
    "2. country\n",
    "3. listed in ( genre)\n",
    "4. type (tv show and movie)\n"
   ]
  },
  {
   "cell_type": "code",
   "execution_count": 15,
   "metadata": {},
   "outputs": [],
   "source": [
    "#menghapus kolom director karena banyak null\n",
    "del data['director']"
   ]
  },
  {
   "cell_type": "code",
   "execution_count": 16,
   "metadata": {},
   "outputs": [
    {
     "name": "stdout",
     "output_type": "stream",
     "text": [
      "<class 'pandas.core.frame.DataFrame'>\n",
      "RangeIndex: 7787 entries, 0 to 7786\n",
      "Data columns (total 11 columns):\n",
      "show_id         7787 non-null object\n",
      "type            7787 non-null object\n",
      "title           7787 non-null object\n",
      "cast            7069 non-null object\n",
      "country         7280 non-null object\n",
      "date_added      7777 non-null object\n",
      "release_year    7787 non-null int64\n",
      "rating          7780 non-null object\n",
      "duration        7787 non-null object\n",
      "listed_in       7787 non-null object\n",
      "description     7787 non-null object\n",
      "dtypes: int64(1), object(10)\n",
      "memory usage: 669.3+ KB\n"
     ]
    }
   ],
   "source": [
    "data.info()"
   ]
  },
  {
   "cell_type": "code",
   "execution_count": 17,
   "metadata": {},
   "outputs": [],
   "source": [
    "d = data.dropna()"
   ]
  },
  {
   "cell_type": "code",
   "execution_count": 18,
   "metadata": {},
   "outputs": [
    {
     "name": "stdout",
     "output_type": "stream",
     "text": [
      "<class 'pandas.core.frame.DataFrame'>\n",
      "Int64Index: 6643 entries, 0 to 7785\n",
      "Data columns (total 11 columns):\n",
      "show_id         6643 non-null object\n",
      "type            6643 non-null object\n",
      "title           6643 non-null object\n",
      "cast            6643 non-null object\n",
      "country         6643 non-null object\n",
      "date_added      6643 non-null object\n",
      "release_year    6643 non-null int64\n",
      "rating          6643 non-null object\n",
      "duration        6643 non-null object\n",
      "listed_in       6643 non-null object\n",
      "description     6643 non-null object\n",
      "dtypes: int64(1), object(10)\n",
      "memory usage: 622.8+ KB\n"
     ]
    }
   ],
   "source": [
    "d.info()"
   ]
  },
  {
   "cell_type": "code",
   "execution_count": 19,
   "metadata": {},
   "outputs": [
    {
     "data": {
      "text/plain": [
       "0"
      ]
     },
     "execution_count": 19,
     "metadata": {},
     "output_type": "execute_result"
    }
   ],
   "source": [
    "d.duplicated().sum()"
   ]
  },
  {
   "cell_type": "code",
   "execution_count": 20,
   "metadata": {},
   "outputs": [
    {
     "name": "stdout",
     "output_type": "stream",
     "text": [
      "(6643, 11)\n"
     ]
    },
    {
     "data": {
      "text/html": [
       "<div>\n",
       "<style scoped>\n",
       "    .dataframe tbody tr th:only-of-type {\n",
       "        vertical-align: middle;\n",
       "    }\n",
       "\n",
       "    .dataframe tbody tr th {\n",
       "        vertical-align: top;\n",
       "    }\n",
       "\n",
       "    .dataframe thead th {\n",
       "        text-align: right;\n",
       "    }\n",
       "</style>\n",
       "<table border=\"1\" class=\"dataframe\">\n",
       "  <thead>\n",
       "    <tr style=\"text-align: right;\">\n",
       "      <th></th>\n",
       "      <th>show_id</th>\n",
       "      <th>type</th>\n",
       "      <th>title</th>\n",
       "      <th>cast</th>\n",
       "      <th>country</th>\n",
       "      <th>date_added</th>\n",
       "      <th>release_year</th>\n",
       "      <th>rating</th>\n",
       "      <th>duration</th>\n",
       "      <th>listed_in</th>\n",
       "      <th>description</th>\n",
       "    </tr>\n",
       "  </thead>\n",
       "  <tbody>\n",
       "    <tr>\n",
       "      <td>0</td>\n",
       "      <td>s1</td>\n",
       "      <td>TV Show</td>\n",
       "      <td>3%</td>\n",
       "      <td>João Miguel, Bianca Comparato, Michel Gomes, R...</td>\n",
       "      <td>Brazil</td>\n",
       "      <td>August 14, 2020</td>\n",
       "      <td>2020</td>\n",
       "      <td>TV-MA</td>\n",
       "      <td>4 Seasons</td>\n",
       "      <td>International TV Shows, TV Dramas, TV Sci-Fi &amp;...</td>\n",
       "      <td>In a future where the elite inhabit an island ...</td>\n",
       "    </tr>\n",
       "    <tr>\n",
       "      <td>1</td>\n",
       "      <td>s2</td>\n",
       "      <td>Movie</td>\n",
       "      <td>7:19</td>\n",
       "      <td>Demián Bichir, Héctor Bonilla, Oscar Serrano, ...</td>\n",
       "      <td>Mexico</td>\n",
       "      <td>December 23, 2016</td>\n",
       "      <td>2016</td>\n",
       "      <td>TV-MA</td>\n",
       "      <td>93 min</td>\n",
       "      <td>Dramas, International Movies</td>\n",
       "      <td>After a devastating earthquake hits Mexico Cit...</td>\n",
       "    </tr>\n",
       "    <tr>\n",
       "      <td>2</td>\n",
       "      <td>s3</td>\n",
       "      <td>Movie</td>\n",
       "      <td>23:59</td>\n",
       "      <td>Tedd Chan, Stella Chung, Henley Hii, Lawrence ...</td>\n",
       "      <td>Singapore</td>\n",
       "      <td>December 20, 2018</td>\n",
       "      <td>2011</td>\n",
       "      <td>R</td>\n",
       "      <td>78 min</td>\n",
       "      <td>Horror Movies, International Movies</td>\n",
       "      <td>When an army recruit is found dead, his fellow...</td>\n",
       "    </tr>\n",
       "    <tr>\n",
       "      <td>3</td>\n",
       "      <td>s4</td>\n",
       "      <td>Movie</td>\n",
       "      <td>9</td>\n",
       "      <td>Elijah Wood, John C. Reilly, Jennifer Connelly...</td>\n",
       "      <td>United States</td>\n",
       "      <td>November 16, 2017</td>\n",
       "      <td>2009</td>\n",
       "      <td>PG-13</td>\n",
       "      <td>80 min</td>\n",
       "      <td>Action &amp; Adventure, Independent Movies, Sci-Fi...</td>\n",
       "      <td>In a postapocalyptic world, rag-doll robots hi...</td>\n",
       "    </tr>\n",
       "    <tr>\n",
       "      <td>4</td>\n",
       "      <td>s5</td>\n",
       "      <td>Movie</td>\n",
       "      <td>21</td>\n",
       "      <td>Jim Sturgess, Kevin Spacey, Kate Bosworth, Aar...</td>\n",
       "      <td>United States</td>\n",
       "      <td>January 1, 2020</td>\n",
       "      <td>2008</td>\n",
       "      <td>PG-13</td>\n",
       "      <td>123 min</td>\n",
       "      <td>Dramas</td>\n",
       "      <td>A brilliant group of students become card-coun...</td>\n",
       "    </tr>\n",
       "  </tbody>\n",
       "</table>\n",
       "</div>"
      ],
      "text/plain": [
       "  show_id     type  title                                               cast  \\\n",
       "0      s1  TV Show     3%  João Miguel, Bianca Comparato, Michel Gomes, R...   \n",
       "1      s2    Movie   7:19  Demián Bichir, Héctor Bonilla, Oscar Serrano, ...   \n",
       "2      s3    Movie  23:59  Tedd Chan, Stella Chung, Henley Hii, Lawrence ...   \n",
       "3      s4    Movie      9  Elijah Wood, John C. Reilly, Jennifer Connelly...   \n",
       "4      s5    Movie     21  Jim Sturgess, Kevin Spacey, Kate Bosworth, Aar...   \n",
       "\n",
       "         country         date_added  release_year rating   duration  \\\n",
       "0         Brazil    August 14, 2020          2020  TV-MA  4 Seasons   \n",
       "1         Mexico  December 23, 2016          2016  TV-MA     93 min   \n",
       "2      Singapore  December 20, 2018          2011      R     78 min   \n",
       "3  United States  November 16, 2017          2009  PG-13     80 min   \n",
       "4  United States    January 1, 2020          2008  PG-13    123 min   \n",
       "\n",
       "                                           listed_in  \\\n",
       "0  International TV Shows, TV Dramas, TV Sci-Fi &...   \n",
       "1                       Dramas, International Movies   \n",
       "2                Horror Movies, International Movies   \n",
       "3  Action & Adventure, Independent Movies, Sci-Fi...   \n",
       "4                                             Dramas   \n",
       "\n",
       "                                         description  \n",
       "0  In a future where the elite inhabit an island ...  \n",
       "1  After a devastating earthquake hits Mexico Cit...  \n",
       "2  When an army recruit is found dead, his fellow...  \n",
       "3  In a postapocalyptic world, rag-doll robots hi...  \n",
       "4  A brilliant group of students become card-coun...  "
      ]
     },
     "execution_count": 20,
     "metadata": {},
     "output_type": "execute_result"
    }
   ],
   "source": [
    "print(d.shape)\n",
    "d.head()"
   ]
  },
  {
   "cell_type": "code",
   "execution_count": 21,
   "metadata": {},
   "outputs": [
    {
     "name": "stdout",
     "output_type": "stream",
     "text": [
      "release_year    5.0\n",
      "dtype: float64\n"
     ]
    }
   ],
   "source": [
    "# Trimming : IQR\n",
    "Q1 = d.quantile(0.25)\n",
    "Q3 = d.quantile(0.75)\n",
    "IQR = Q3 - Q1\n",
    "print(IQR) # Menghitung jumlah data setelah di trim dengan IQR"
   ]
  },
  {
   "cell_type": "code",
   "execution_count": 22,
   "metadata": {},
   "outputs": [
    {
     "data": {
      "text/plain": [
       "(5940, 11)"
      ]
     },
     "execution_count": 22,
     "metadata": {},
     "output_type": "execute_result"
    }
   ],
   "source": [
    "datanetflix = d[~((d<(Q1-1.5*IQR))|(d>(Q3+1.5*IQR))).any(axis=1)]\n",
    "datanetflix.shape # data setelah di cek outlier"
   ]
  },
  {
   "cell_type": "code",
   "execution_count": 23,
   "metadata": {},
   "outputs": [
    {
     "data": {
      "text/plain": [
       "(6643, 11)"
      ]
     },
     "execution_count": 23,
     "metadata": {},
     "output_type": "execute_result"
    }
   ],
   "source": [
    "d.shape # data sebelum cek outlier"
   ]
  },
  {
   "cell_type": "code",
   "execution_count": 24,
   "metadata": {},
   "outputs": [
    {
     "data": {
      "text/html": [
       "<div>\n",
       "<style scoped>\n",
       "    .dataframe tbody tr th:only-of-type {\n",
       "        vertical-align: middle;\n",
       "    }\n",
       "\n",
       "    .dataframe tbody tr th {\n",
       "        vertical-align: top;\n",
       "    }\n",
       "\n",
       "    .dataframe thead th {\n",
       "        text-align: right;\n",
       "    }\n",
       "</style>\n",
       "<table border=\"1\" class=\"dataframe\">\n",
       "  <thead>\n",
       "    <tr style=\"text-align: right;\">\n",
       "      <th></th>\n",
       "      <th>show_id</th>\n",
       "      <th>type</th>\n",
       "      <th>title</th>\n",
       "      <th>cast</th>\n",
       "      <th>country</th>\n",
       "      <th>date_added</th>\n",
       "      <th>release_year</th>\n",
       "      <th>rating</th>\n",
       "      <th>duration</th>\n",
       "      <th>listed_in</th>\n",
       "      <th>description</th>\n",
       "    </tr>\n",
       "  </thead>\n",
       "  <tbody>\n",
       "    <tr>\n",
       "      <td>0</td>\n",
       "      <td>s1</td>\n",
       "      <td>TV Show</td>\n",
       "      <td>3%</td>\n",
       "      <td>João Miguel, Bianca Comparato, Michel Gomes, R...</td>\n",
       "      <td>Brazil</td>\n",
       "      <td>August 14, 2020</td>\n",
       "      <td>2020</td>\n",
       "      <td>TV-MA</td>\n",
       "      <td>4 Seasons</td>\n",
       "      <td>International TV Shows, TV Dramas, TV Sci-Fi &amp;...</td>\n",
       "      <td>In a future where the elite inhabit an island ...</td>\n",
       "    </tr>\n",
       "    <tr>\n",
       "      <td>1</td>\n",
       "      <td>s2</td>\n",
       "      <td>Movie</td>\n",
       "      <td>7:19</td>\n",
       "      <td>Demián Bichir, Héctor Bonilla, Oscar Serrano, ...</td>\n",
       "      <td>Mexico</td>\n",
       "      <td>December 23, 2016</td>\n",
       "      <td>2016</td>\n",
       "      <td>TV-MA</td>\n",
       "      <td>93 min</td>\n",
       "      <td>Dramas, International Movies</td>\n",
       "      <td>After a devastating earthquake hits Mexico Cit...</td>\n",
       "    </tr>\n",
       "    <tr>\n",
       "      <td>2</td>\n",
       "      <td>s3</td>\n",
       "      <td>Movie</td>\n",
       "      <td>23:59</td>\n",
       "      <td>Tedd Chan, Stella Chung, Henley Hii, Lawrence ...</td>\n",
       "      <td>Singapore</td>\n",
       "      <td>December 20, 2018</td>\n",
       "      <td>2011</td>\n",
       "      <td>R</td>\n",
       "      <td>78 min</td>\n",
       "      <td>Horror Movies, International Movies</td>\n",
       "      <td>When an army recruit is found dead, his fellow...</td>\n",
       "    </tr>\n",
       "    <tr>\n",
       "      <td>3</td>\n",
       "      <td>s4</td>\n",
       "      <td>Movie</td>\n",
       "      <td>9</td>\n",
       "      <td>Elijah Wood, John C. Reilly, Jennifer Connelly...</td>\n",
       "      <td>United States</td>\n",
       "      <td>November 16, 2017</td>\n",
       "      <td>2009</td>\n",
       "      <td>PG-13</td>\n",
       "      <td>80 min</td>\n",
       "      <td>Action &amp; Adventure, Independent Movies, Sci-Fi...</td>\n",
       "      <td>In a postapocalyptic world, rag-doll robots hi...</td>\n",
       "    </tr>\n",
       "    <tr>\n",
       "      <td>4</td>\n",
       "      <td>s5</td>\n",
       "      <td>Movie</td>\n",
       "      <td>21</td>\n",
       "      <td>Jim Sturgess, Kevin Spacey, Kate Bosworth, Aar...</td>\n",
       "      <td>United States</td>\n",
       "      <td>January 1, 2020</td>\n",
       "      <td>2008</td>\n",
       "      <td>PG-13</td>\n",
       "      <td>123 min</td>\n",
       "      <td>Dramas</td>\n",
       "      <td>A brilliant group of students become card-coun...</td>\n",
       "    </tr>\n",
       "  </tbody>\n",
       "</table>\n",
       "</div>"
      ],
      "text/plain": [
       "  show_id     type  title                                               cast  \\\n",
       "0      s1  TV Show     3%  João Miguel, Bianca Comparato, Michel Gomes, R...   \n",
       "1      s2    Movie   7:19  Demián Bichir, Héctor Bonilla, Oscar Serrano, ...   \n",
       "2      s3    Movie  23:59  Tedd Chan, Stella Chung, Henley Hii, Lawrence ...   \n",
       "3      s4    Movie      9  Elijah Wood, John C. Reilly, Jennifer Connelly...   \n",
       "4      s5    Movie     21  Jim Sturgess, Kevin Spacey, Kate Bosworth, Aar...   \n",
       "\n",
       "         country         date_added  release_year rating   duration  \\\n",
       "0         Brazil    August 14, 2020          2020  TV-MA  4 Seasons   \n",
       "1         Mexico  December 23, 2016          2016  TV-MA     93 min   \n",
       "2      Singapore  December 20, 2018          2011      R     78 min   \n",
       "3  United States  November 16, 2017          2009  PG-13     80 min   \n",
       "4  United States    January 1, 2020          2008  PG-13    123 min   \n",
       "\n",
       "                                           listed_in  \\\n",
       "0  International TV Shows, TV Dramas, TV Sci-Fi &...   \n",
       "1                       Dramas, International Movies   \n",
       "2                Horror Movies, International Movies   \n",
       "3  Action & Adventure, Independent Movies, Sci-Fi...   \n",
       "4                                             Dramas   \n",
       "\n",
       "                                         description  \n",
       "0  In a future where the elite inhabit an island ...  \n",
       "1  After a devastating earthquake hits Mexico Cit...  \n",
       "2  When an army recruit is found dead, his fellow...  \n",
       "3  In a postapocalyptic world, rag-doll robots hi...  \n",
       "4  A brilliant group of students become card-coun...  "
      ]
     },
     "execution_count": 24,
     "metadata": {},
     "output_type": "execute_result"
    }
   ],
   "source": [
    "datanetflix.head()"
   ]
  },
  {
   "cell_type": "code",
   "execution_count": 25,
   "metadata": {},
   "outputs": [
    {
     "data": {
      "text/html": [
       "<div>\n",
       "<style scoped>\n",
       "    .dataframe tbody tr th:only-of-type {\n",
       "        vertical-align: middle;\n",
       "    }\n",
       "\n",
       "    .dataframe tbody tr th {\n",
       "        vertical-align: top;\n",
       "    }\n",
       "\n",
       "    .dataframe thead th {\n",
       "        text-align: right;\n",
       "    }\n",
       "</style>\n",
       "<table border=\"1\" class=\"dataframe\">\n",
       "  <thead>\n",
       "    <tr style=\"text-align: right;\">\n",
       "      <th></th>\n",
       "      <th>show_id</th>\n",
       "      <th>type</th>\n",
       "      <th>title</th>\n",
       "      <th>cast</th>\n",
       "      <th>country</th>\n",
       "      <th>date_added</th>\n",
       "      <th>release_year</th>\n",
       "      <th>rating</th>\n",
       "      <th>duration</th>\n",
       "      <th>listed_in</th>\n",
       "      <th>description</th>\n",
       "    </tr>\n",
       "  </thead>\n",
       "  <tbody>\n",
       "    <tr>\n",
       "      <td>count</td>\n",
       "      <td>5940</td>\n",
       "      <td>5940</td>\n",
       "      <td>5940</td>\n",
       "      <td>5940</td>\n",
       "      <td>5940</td>\n",
       "      <td>5940</td>\n",
       "      <td>5940.000000</td>\n",
       "      <td>5940</td>\n",
       "      <td>5940</td>\n",
       "      <td>5940</td>\n",
       "      <td>5940</td>\n",
       "    </tr>\n",
       "    <tr>\n",
       "      <td>unique</td>\n",
       "      <td>5940</td>\n",
       "      <td>2</td>\n",
       "      <td>5940</td>\n",
       "      <td>5775</td>\n",
       "      <td>581</td>\n",
       "      <td>1474</td>\n",
       "      <td>NaN</td>\n",
       "      <td>14</td>\n",
       "      <td>184</td>\n",
       "      <td>425</td>\n",
       "      <td>5935</td>\n",
       "    </tr>\n",
       "    <tr>\n",
       "      <td>top</td>\n",
       "      <td>s2497</td>\n",
       "      <td>Movie</td>\n",
       "      <td>Fire in the Blood</td>\n",
       "      <td>David Attenborough</td>\n",
       "      <td>United States</td>\n",
       "      <td>October 1, 2018</td>\n",
       "      <td>NaN</td>\n",
       "      <td>TV-MA</td>\n",
       "      <td>1 Season</td>\n",
       "      <td>Stand-Up Comedy</td>\n",
       "      <td>When Elastigirl gets recruited for a high-prof...</td>\n",
       "    </tr>\n",
       "    <tr>\n",
       "      <td>freq</td>\n",
       "      <td>1</td>\n",
       "      <td>4135</td>\n",
       "      <td>1</td>\n",
       "      <td>17</td>\n",
       "      <td>1958</td>\n",
       "      <td>62</td>\n",
       "      <td>NaN</td>\n",
       "      <td>2368</td>\n",
       "      <td>1143</td>\n",
       "      <td>274</td>\n",
       "      <td>2</td>\n",
       "    </tr>\n",
       "    <tr>\n",
       "      <td>mean</td>\n",
       "      <td>NaN</td>\n",
       "      <td>NaN</td>\n",
       "      <td>NaN</td>\n",
       "      <td>NaN</td>\n",
       "      <td>NaN</td>\n",
       "      <td>NaN</td>\n",
       "      <td>2016.056734</td>\n",
       "      <td>NaN</td>\n",
       "      <td>NaN</td>\n",
       "      <td>NaN</td>\n",
       "      <td>NaN</td>\n",
       "    </tr>\n",
       "    <tr>\n",
       "      <td>std</td>\n",
       "      <td>NaN</td>\n",
       "      <td>NaN</td>\n",
       "      <td>NaN</td>\n",
       "      <td>NaN</td>\n",
       "      <td>NaN</td>\n",
       "      <td>NaN</td>\n",
       "      <td>3.401561</td>\n",
       "      <td>NaN</td>\n",
       "      <td>NaN</td>\n",
       "      <td>NaN</td>\n",
       "      <td>NaN</td>\n",
       "    </tr>\n",
       "    <tr>\n",
       "      <td>min</td>\n",
       "      <td>NaN</td>\n",
       "      <td>NaN</td>\n",
       "      <td>NaN</td>\n",
       "      <td>NaN</td>\n",
       "      <td>NaN</td>\n",
       "      <td>NaN</td>\n",
       "      <td>2006.000000</td>\n",
       "      <td>NaN</td>\n",
       "      <td>NaN</td>\n",
       "      <td>NaN</td>\n",
       "      <td>NaN</td>\n",
       "    </tr>\n",
       "    <tr>\n",
       "      <td>25%</td>\n",
       "      <td>NaN</td>\n",
       "      <td>NaN</td>\n",
       "      <td>NaN</td>\n",
       "      <td>NaN</td>\n",
       "      <td>NaN</td>\n",
       "      <td>NaN</td>\n",
       "      <td>2015.000000</td>\n",
       "      <td>NaN</td>\n",
       "      <td>NaN</td>\n",
       "      <td>NaN</td>\n",
       "      <td>NaN</td>\n",
       "    </tr>\n",
       "    <tr>\n",
       "      <td>50%</td>\n",
       "      <td>NaN</td>\n",
       "      <td>NaN</td>\n",
       "      <td>NaN</td>\n",
       "      <td>NaN</td>\n",
       "      <td>NaN</td>\n",
       "      <td>NaN</td>\n",
       "      <td>2017.000000</td>\n",
       "      <td>NaN</td>\n",
       "      <td>NaN</td>\n",
       "      <td>NaN</td>\n",
       "      <td>NaN</td>\n",
       "    </tr>\n",
       "    <tr>\n",
       "      <td>75%</td>\n",
       "      <td>NaN</td>\n",
       "      <td>NaN</td>\n",
       "      <td>NaN</td>\n",
       "      <td>NaN</td>\n",
       "      <td>NaN</td>\n",
       "      <td>NaN</td>\n",
       "      <td>2019.000000</td>\n",
       "      <td>NaN</td>\n",
       "      <td>NaN</td>\n",
       "      <td>NaN</td>\n",
       "      <td>NaN</td>\n",
       "    </tr>\n",
       "    <tr>\n",
       "      <td>max</td>\n",
       "      <td>NaN</td>\n",
       "      <td>NaN</td>\n",
       "      <td>NaN</td>\n",
       "      <td>NaN</td>\n",
       "      <td>NaN</td>\n",
       "      <td>NaN</td>\n",
       "      <td>2021.000000</td>\n",
       "      <td>NaN</td>\n",
       "      <td>NaN</td>\n",
       "      <td>NaN</td>\n",
       "      <td>NaN</td>\n",
       "    </tr>\n",
       "  </tbody>\n",
       "</table>\n",
       "</div>"
      ],
      "text/plain": [
       "       show_id   type              title                cast        country  \\\n",
       "count     5940   5940               5940                5940           5940   \n",
       "unique    5940      2               5940                5775            581   \n",
       "top      s2497  Movie  Fire in the Blood  David Attenborough  United States   \n",
       "freq         1   4135                  1                  17           1958   \n",
       "mean       NaN    NaN                NaN                 NaN            NaN   \n",
       "std        NaN    NaN                NaN                 NaN            NaN   \n",
       "min        NaN    NaN                NaN                 NaN            NaN   \n",
       "25%        NaN    NaN                NaN                 NaN            NaN   \n",
       "50%        NaN    NaN                NaN                 NaN            NaN   \n",
       "75%        NaN    NaN                NaN                 NaN            NaN   \n",
       "max        NaN    NaN                NaN                 NaN            NaN   \n",
       "\n",
       "             date_added  release_year rating  duration        listed_in  \\\n",
       "count              5940   5940.000000   5940      5940             5940   \n",
       "unique             1474           NaN     14       184              425   \n",
       "top     October 1, 2018           NaN  TV-MA  1 Season  Stand-Up Comedy   \n",
       "freq                 62           NaN   2368      1143              274   \n",
       "mean                NaN   2016.056734    NaN       NaN              NaN   \n",
       "std                 NaN      3.401561    NaN       NaN              NaN   \n",
       "min                 NaN   2006.000000    NaN       NaN              NaN   \n",
       "25%                 NaN   2015.000000    NaN       NaN              NaN   \n",
       "50%                 NaN   2017.000000    NaN       NaN              NaN   \n",
       "75%                 NaN   2019.000000    NaN       NaN              NaN   \n",
       "max                 NaN   2021.000000    NaN       NaN              NaN   \n",
       "\n",
       "                                              description  \n",
       "count                                                5940  \n",
       "unique                                               5935  \n",
       "top     When Elastigirl gets recruited for a high-prof...  \n",
       "freq                                                    2  \n",
       "mean                                                  NaN  \n",
       "std                                                   NaN  \n",
       "min                                                   NaN  \n",
       "25%                                                   NaN  \n",
       "50%                                                   NaN  \n",
       "75%                                                   NaN  \n",
       "max                                                   NaN  "
      ]
     },
     "execution_count": 25,
     "metadata": {},
     "output_type": "execute_result"
    }
   ],
   "source": [
    "datanetflix.describe(include='all')"
   ]
  },
  {
   "cell_type": "markdown",
   "metadata": {},
   "source": [
    "dari 4403 data terdapat 2 tipe , 339 director, 4290 cast, 523 country,283 list,"
   ]
  },
  {
   "cell_type": "code",
   "execution_count": 26,
   "metadata": {},
   "outputs": [
    {
     "data": {
      "image/png": "[encoded data removed]",
      "text/plain": [
       "<Figure size 432x288 with 1 Axes>"
      ]
     },
     "metadata": {
      "needs_background": "light"
     },
     "output_type": "display_data"
    }
   ],
   "source": [
    "s = sns.countplot(x = \"type\", data = data) \n",
    "\n",
    "#kalo pake data yg belum di hapus nullnya movie lebih banyak"
   ]
  },
  {
   "cell_type": "code",
   "execution_count": 27,
   "metadata": {},
   "outputs": [
    {
     "data": {
      "image/png": "[encoded data removed]",
      "text/plain": [
       "<Figure size 432x288 with 1 Axes>"
      ]
     },
     "metadata": {
      "needs_background": "light"
     },
     "output_type": "display_data"
    }
   ],
   "source": [
    "s = sns.countplot(x = \"type\", data = datanetflix) \n"
   ]
  },
  {
   "cell_type": "code",
   "execution_count": 29,
   "metadata": {},
   "outputs": [
    {
     "name": "stdout",
     "output_type": "stream",
     "text": [
      "\n"
     ]
    },
    {
     "data": {
      "image/png": "[encoded data removed]",
      "text/plain": [
       "<Figure size 1152x576 with 1 Axes>"
      ]
     },
     "metadata": {
      "needs_background": "light"
     },
     "output_type": "display_data"
    }
   ],
   "source": [
    "plt.figure(figsize=(16,8))\n",
    "rating = sns.countplot(x = \"rating\", data = datanetflix )\n",
    "rating.set_xticklabels(rating.get_xticklabels(), rotation=90)\n",
    "print()\n",
    "\n",
    "#rating terbanyak berasal dari rating TV-MA\n"
   ]
  },
  {
   "cell_type": "code",
   "execution_count": 38,
   "metadata": {},
   "outputs": [
    {
     "data": {
      "text/plain": [
       "rating    type   \n",
       "G         Movie        14\n",
       "NC-17     Movie         3\n",
       "NR        Movie        52\n",
       "          TV Show       3\n",
       "PG        Movie       177\n",
       "PG-13     Movie       277\n",
       "R         Movie       518\n",
       "          TV Show       1\n",
       "TV-14     Movie       951\n",
       "          TV Show     501\n",
       "TV-G      Movie        81\n",
       "          TV Show      54\n",
       "TV-MA     Movie      1557\n",
       "          TV Show     811\n",
       "TV-PG     Movie       351\n",
       "          TV Show     202\n",
       "TV-Y      TV Show     115\n",
       "          Movie        74\n",
       "TV-Y7     TV Show     117\n",
       "          Movie        73\n",
       "TV-Y7-FV  Movie         3\n",
       "          TV Show       1\n",
       "UR        Movie         4\n",
       "Name: type, dtype: int64"
      ]
     },
     "execution_count": 38,
     "metadata": {},
     "output_type": "execute_result"
    }
   ],
   "source": [
    "datanetflix.groupby('rating').type.value_counts()"
   ]
  },
  {
   "cell_type": "code",
   "execution_count": 39,
   "metadata": {},
   "outputs": [
    {
     "data": {
      "text/plain": [
       "<matplotlib.axes._subplots.AxesSubplot at 0x27ff46953c8>"
      ]
     },
     "execution_count": 39,
     "metadata": {},
     "output_type": "execute_result"
    },
    {
     "data": {
      "image/png": "[encoded data removed]",
      "text/plain": [
       "<Figure size 1152x576 with 1 Axes>"
      ]
     },
     "metadata": {
      "needs_background": "light"
     },
     "output_type": "display_data"
    }
   ],
   "source": [
    "pd.crosstab(datanetflix.rating, datanetflix.type).plot(kind='bar',figsize=(16,8))"
   ]
  },
  {
   "cell_type": "code",
   "execution_count": 40,
   "metadata": {},
   "outputs": [
    {
     "data": {
      "text/plain": [
       "Text(0.5, 1.0, 'top genre')"
      ]
     },
     "execution_count": 40,
     "metadata": {},
     "output_type": "execute_result"
    },
    {
     "data": {
      "image/png": "[encoded data removed]",
      "text/plain": [
       "<Figure size 864x576 with 1 Axes>"
      ]
     },
     "metadata": {},
     "output_type": "display_data"
    }
   ],
   "source": [
    "genre = datanetflix.groupby(datanetflix['listed_in'])['listed_in'].count().sort_values(ascending = False).head(5)\n",
    "plt.figure(figsize=(12,8))\n",
    "plt.subplot()\n",
    "genre.plot.pie(autopct = '%1.f%%', shadow = True, fontsize = 15)\n",
    "plt.title(\"top genre\")"
   ]
  },
  {
   "cell_type": "code",
   "execution_count": 58,
   "metadata": {},
   "outputs": [
    {
     "data": {
      "text/plain": [
       "Stand-Up Comedy                                     274\n",
       "Dramas, International Movies                        274\n",
       "Comedies, Dramas, International Movies              211\n",
       "Dramas, Independent Movies, International Movies    201\n",
       "Documentaries                                       157\n",
       "Comedies, International Movies                      143\n",
       "Kids' TV                                            137\n",
       "Children & Family Movies, Comedies                  135\n",
       "Dramas, International Movies, Romantic Movies       124\n",
       "Comedies, International Movies, Romantic Movies     122\n",
       "Name: listed_in, dtype: int64"
      ]
     },
     "execution_count": 58,
     "metadata": {},
     "output_type": "execute_result"
    }
   ],
   "source": [
    "genre=datanetflix['listed_in'].value_counts()[:10]\n",
    "genre"
   ]
  },
  {
   "cell_type": "code",
   "execution_count": 59,
   "metadata": {},
   "outputs": [
    {
     "data": {
      "text/plain": [
       "<matplotlib.axes._subplots.AxesSubplot at 0x27ff768c9c8>"
      ]
     },
     "execution_count": 59,
     "metadata": {},
     "output_type": "execute_result"
    },
    {
     "data": {
      "image/png": "[encoded data removed]",
      "text/plain": [
       "<Figure size 432x288 with 1 Axes>"
      ]
     },
     "metadata": {
      "needs_background": "light"
     },
     "output_type": "display_data"
    }
   ],
   "source": [
    "sns.barplot(x=genre.values,y=genre.index)"
   ]
  },
  {
   "cell_type": "code",
   "execution_count": 43,
   "metadata": {},
   "outputs": [
    {
     "data": {
      "text/plain": [
       "Text(0.5, 1.0, 'negara terbanyak')"
      ]
     },
     "execution_count": 43,
     "metadata": {},
     "output_type": "execute_result"
    },
    {
     "data": {
      "image/png": "[encoded data removed]",
      "text/plain": [
       "<Figure size 864x576 with 1 Axes>"
      ]
     },
     "metadata": {},
     "output_type": "display_data"
    }
   ],
   "source": [
    "Country = datanetflix.groupby(datanetflix['country'])['country'].count().sort_values(ascending = False).head(10)\n",
    "plt.figure(figsize=(12,8))\n",
    "plt.subplot()\n",
    "Country.plot.pie(autopct = '%1.f%%', shadow = True, fontsize = 15)\n",
    "plt.title(\"negara terbanyak\")"
   ]
  },
  {
   "cell_type": "code",
   "execution_count": 42,
   "metadata": {},
   "outputs": [
    {
     "data": {
      "text/plain": [
       "United States     1958\n",
       "India              746\n",
       "United Kingdom     308\n",
       "Japan              201\n",
       "South Korea        179\n",
       "Canada             156\n",
       "Spain              117\n",
       "France              97\n",
       "Turkey              94\n",
       "Egypt               86\n",
       "Name: country, dtype: int64"
      ]
     },
     "execution_count": 42,
     "metadata": {},
     "output_type": "execute_result"
    }
   ],
   "source": [
    "negara= datanetflix['country'].value_counts().head(10)\n",
    "negara"
   ]
  },
  {
   "cell_type": "code",
   "execution_count": 55,
   "metadata": {},
   "outputs": [
    {
     "data": {
      "text/plain": [
       "<matplotlib.axes._subplots.AxesSubplot at 0x27ff58ab9c8>"
      ]
     },
     "execution_count": 55,
     "metadata": {},
     "output_type": "execute_result"
    },
    {
     "data": {
      "image/png": "[encoded data removed]",
      "text/plain": [
       "<Figure size 432x288 with 1 Axes>"
      ]
     },
     "metadata": {
      "needs_background": "light"
     },
     "output_type": "display_data"
    }
   ],
   "source": [
    "sns.barplot(x=negara.values,y=negara.index)"
   ]
  },
  {
   "cell_type": "code",
   "execution_count": 54,
   "metadata": {},
   "outputs": [
    {
     "data": {
      "text/plain": [
       "country\n",
       "United States     548\n",
       "United Kingdom    162\n",
       "South Korea       145\n",
       "Japan             143\n",
       "Taiwan             61\n",
       "India              57\n",
       "Canada             52\n",
       "Spain              40\n",
       "Australia          38\n",
       "China              36\n",
       "Name: country, dtype: int64"
      ]
     },
     "execution_count": 54,
     "metadata": {},
     "output_type": "execute_result"
    }
   ],
   "source": [
    "datanetflix.groupby('type').country.value_counts()['TV Show'][:10]"
   ]
  },
  {
   "cell_type": "code",
   "execution_count": 56,
   "metadata": {},
   "outputs": [
    {
     "data": {
      "text/plain": [
       "country\n",
       "United States     1410\n",
       "India              689\n",
       "United Kingdom     146\n",
       "Canada             104\n",
       "Spain               77\n",
       "Egypt               74\n",
       "Philippines         70\n",
       "Turkey              68\n",
       "Indonesia           64\n",
       "France              62\n",
       "Name: country, dtype: int64"
      ]
     },
     "execution_count": 56,
     "metadata": {},
     "output_type": "execute_result"
    }
   ],
   "source": [
    "datanetflix.groupby('type').country.value_counts()['Movie'][:10]"
   ]
  },
  {
   "cell_type": "code",
   "execution_count": 34,
   "metadata": {},
   "outputs": [
    {
     "name": "stdout",
     "output_type": "stream",
     "text": [
      "\n"
     ]
    },
    {
     "data": {
      "image/png": "[encoded data removed]",
      "text/plain": [
       "<Figure size 1152x576 with 1 Axes>"
      ]
     },
     "metadata": {
      "needs_background": "light"
     },
     "output_type": "display_data"
    }
   ],
   "source": [
    "plt.figure(figsize=(16,8))\n",
    "rating = sns.countplot(x = \"release_year\", data = datanetflix )\n",
    "rating.set_xticklabels(rating.get_xticklabels(), rotation=90)\n",
    "print()\n"
   ]
  },
  {
   "cell_type": "code",
   "execution_count": 35,
   "metadata": {},
   "outputs": [
    {
     "data": {
      "text/plain": [
       "<matplotlib.axes._subplots.AxesSubplot at 0x27ff4eb4608>"
      ]
     },
     "execution_count": 35,
     "metadata": {},
     "output_type": "execute_result"
    },
    {
     "data": {
      "image/png": "[encoded data removed]",
      "text/plain": [
       "<Figure size 1152x576 with 1 Axes>"
      ]
     },
     "metadata": {
      "needs_background": "light"
     },
     "output_type": "display_data"
    }
   ],
   "source": [
    "pd.crosstab(datanetflix.release_year, datanetflix.type).plot(kind='bar',figsize=(16,8))"
   ]
  },
  {
   "cell_type": "code",
   "execution_count": 36,
   "metadata": {},
   "outputs": [
    {
     "data": {
      "text/html": [
       "<div>\n",
       "<style scoped>\n",
       "    .dataframe tbody tr th:only-of-type {\n",
       "        vertical-align: middle;\n",
       "    }\n",
       "\n",
       "    .dataframe tbody tr th {\n",
       "        vertical-align: top;\n",
       "    }\n",
       "\n",
       "    .dataframe thead th {\n",
       "        text-align: right;\n",
       "    }\n",
       "</style>\n",
       "<table border=\"1\" class=\"dataframe\">\n",
       "  <thead>\n",
       "    <tr style=\"text-align: right;\">\n",
       "      <th></th>\n",
       "      <th>show_id</th>\n",
       "      <th>type</th>\n",
       "      <th>title</th>\n",
       "      <th>cast</th>\n",
       "      <th>country</th>\n",
       "      <th>date_added</th>\n",
       "      <th>release_year</th>\n",
       "      <th>rating</th>\n",
       "      <th>duration</th>\n",
       "      <th>listed_in</th>\n",
       "      <th>description</th>\n",
       "    </tr>\n",
       "  </thead>\n",
       "  <tbody>\n",
       "    <tr>\n",
       "      <td>4390</td>\n",
       "      <td>s4391</td>\n",
       "      <td>TV Show</td>\n",
       "      <td>Nailed It! Mexico</td>\n",
       "      <td>Omar Chaparro, Anna Ruiz</td>\n",
       "      <td>Mexico, United States</td>\n",
       "      <td>January 5, 2021</td>\n",
       "      <td>2021</td>\n",
       "      <td>TV-PG</td>\n",
       "      <td>3 Seasons</td>\n",
       "      <td>International TV Shows, Reality TV, Spanish-La...</td>\n",
       "      <td>The fun, fondant and hilarious cake fails head...</td>\n",
       "    </tr>\n",
       "    <tr>\n",
       "      <td>1780</td>\n",
       "      <td>s1781</td>\n",
       "      <td>TV Show</td>\n",
       "      <td>Disenchantment</td>\n",
       "      <td>Abbi Jacobson, Eric André, Nat Faxon, John DiM...</td>\n",
       "      <td>United States</td>\n",
       "      <td>January 15, 2021</td>\n",
       "      <td>2021</td>\n",
       "      <td>TV-14</td>\n",
       "      <td>3 Seasons</td>\n",
       "      <td>TV Action &amp; Adventure, TV Comedies, TV Sci-Fi ...</td>\n",
       "      <td>Princess duties call, but she'd rather be drin...</td>\n",
       "    </tr>\n",
       "    <tr>\n",
       "      <td>4965</td>\n",
       "      <td>s4966</td>\n",
       "      <td>TV Show</td>\n",
       "      <td>Pretend It’s a City</td>\n",
       "      <td>Fran Lebowitz</td>\n",
       "      <td>United States</td>\n",
       "      <td>January 8, 2021</td>\n",
       "      <td>2021</td>\n",
       "      <td>TV-14</td>\n",
       "      <td>1 Season</td>\n",
       "      <td>Docuseries</td>\n",
       "      <td>Wander the New York City streets and fascinati...</td>\n",
       "    </tr>\n",
       "    <tr>\n",
       "      <td>3822</td>\n",
       "      <td>s3823</td>\n",
       "      <td>TV Show</td>\n",
       "      <td>Lupin</td>\n",
       "      <td>Omar Sy, Ludivine Sagnier, Clotilde Hesme, Nic...</td>\n",
       "      <td>United States</td>\n",
       "      <td>January 8, 2021</td>\n",
       "      <td>2021</td>\n",
       "      <td>TV-MA</td>\n",
       "      <td>1 Season</td>\n",
       "      <td>Crime TV Shows, International TV Shows, TV Act...</td>\n",
       "      <td>Inspired by the adventures of Arsène Lupin, ge...</td>\n",
       "    </tr>\n",
       "    <tr>\n",
       "      <td>2672</td>\n",
       "      <td>s2673</td>\n",
       "      <td>TV Show</td>\n",
       "      <td>Headspace Guide to Meditation</td>\n",
       "      <td>Andy Puddicombe</td>\n",
       "      <td>United States</td>\n",
       "      <td>January 1, 2021</td>\n",
       "      <td>2021</td>\n",
       "      <td>TV-G</td>\n",
       "      <td>1 Season</td>\n",
       "      <td>Docuseries, Science &amp; Nature TV</td>\n",
       "      <td>Headspace takes a friendly, animated look at t...</td>\n",
       "    </tr>\n",
       "  </tbody>\n",
       "</table>\n",
       "</div>"
      ],
      "text/plain": [
       "     show_id     type                          title  \\\n",
       "4390   s4391  TV Show              Nailed It! Mexico   \n",
       "1780   s1781  TV Show                 Disenchantment   \n",
       "4965   s4966  TV Show            Pretend It’s a City   \n",
       "3822   s3823  TV Show                          Lupin   \n",
       "2672   s2673  TV Show  Headspace Guide to Meditation   \n",
       "\n",
       "                                                   cast  \\\n",
       "4390                           Omar Chaparro, Anna Ruiz   \n",
       "1780  Abbi Jacobson, Eric André, Nat Faxon, John DiM...   \n",
       "4965                                      Fran Lebowitz   \n",
       "3822  Omar Sy, Ludivine Sagnier, Clotilde Hesme, Nic...   \n",
       "2672                                    Andy Puddicombe   \n",
       "\n",
       "                    country        date_added  release_year rating   duration  \\\n",
       "4390  Mexico, United States   January 5, 2021          2021  TV-PG  3 Seasons   \n",
       "1780          United States  January 15, 2021          2021  TV-14  3 Seasons   \n",
       "4965          United States   January 8, 2021          2021  TV-14   1 Season   \n",
       "3822          United States   January 8, 2021          2021  TV-MA   1 Season   \n",
       "2672          United States   January 1, 2021          2021   TV-G   1 Season   \n",
       "\n",
       "                                              listed_in  \\\n",
       "4390  International TV Shows, Reality TV, Spanish-La...   \n",
       "1780  TV Action & Adventure, TV Comedies, TV Sci-Fi ...   \n",
       "4965                                         Docuseries   \n",
       "3822  Crime TV Shows, International TV Shows, TV Act...   \n",
       "2672                    Docuseries, Science & Nature TV   \n",
       "\n",
       "                                            description  \n",
       "4390  The fun, fondant and hilarious cake fails head...  \n",
       "1780  Princess duties call, but she'd rather be drin...  \n",
       "4965  Wander the New York City streets and fascinati...  \n",
       "3822  Inspired by the adventures of Arsène Lupin, ge...  \n",
       "2672  Headspace takes a friendly, animated look at t...  "
      ]
     },
     "execution_count": 36,
     "metadata": {},
     "output_type": "execute_result"
    }
   ],
   "source": [
    "#5 series yg baru rilis\n",
    "datanetflix[datanetflix['type']=='TV Show'].sort_values('release_year').tail(5)"
   ]
  },
  {
   "cell_type": "code",
   "execution_count": 37,
   "metadata": {},
   "outputs": [
    {
     "data": {
      "text/html": [
       "<div>\n",
       "<style scoped>\n",
       "    .dataframe tbody tr th:only-of-type {\n",
       "        vertical-align: middle;\n",
       "    }\n",
       "\n",
       "    .dataframe tbody tr th {\n",
       "        vertical-align: top;\n",
       "    }\n",
       "\n",
       "    .dataframe thead th {\n",
       "        text-align: right;\n",
       "    }\n",
       "</style>\n",
       "<table border=\"1\" class=\"dataframe\">\n",
       "  <thead>\n",
       "    <tr style=\"text-align: right;\">\n",
       "      <th></th>\n",
       "      <th>show_id</th>\n",
       "      <th>type</th>\n",
       "      <th>title</th>\n",
       "      <th>cast</th>\n",
       "      <th>country</th>\n",
       "      <th>date_added</th>\n",
       "      <th>release_year</th>\n",
       "      <th>rating</th>\n",
       "      <th>duration</th>\n",
       "      <th>listed_in</th>\n",
       "      <th>description</th>\n",
       "    </tr>\n",
       "  </thead>\n",
       "  <tbody>\n",
       "    <tr>\n",
       "      <td>3111</td>\n",
       "      <td>s3112</td>\n",
       "      <td>Movie</td>\n",
       "      <td>Jai Mummy Di</td>\n",
       "      <td>Poonam Dhillon, Supriya Pathak, Sunny Singh, S...</td>\n",
       "      <td>India</td>\n",
       "      <td>March 14, 2020</td>\n",
       "      <td>2020</td>\n",
       "      <td>TV-MA</td>\n",
       "      <td>101 min</td>\n",
       "      <td>Comedies, International Movies, Romantic Movies</td>\n",
       "      <td>Sick of keeping their love a secret from their...</td>\n",
       "    </tr>\n",
       "    <tr>\n",
       "      <td>5859</td>\n",
       "      <td>s5860</td>\n",
       "      <td>Movie</td>\n",
       "      <td>Stuck Apart</td>\n",
       "      <td>Engin Günaydın, Haluk Bilginer, Binnur Kaya, Ö...</td>\n",
       "      <td>Turkey</td>\n",
       "      <td>January 8, 2021</td>\n",
       "      <td>2021</td>\n",
       "      <td>TV-MA</td>\n",
       "      <td>97 min</td>\n",
       "      <td>Comedies, Dramas, International Movies</td>\n",
       "      <td>Entrenched in a midlife crisis, Aziz seeks sol...</td>\n",
       "    </tr>\n",
       "    <tr>\n",
       "      <td>7551</td>\n",
       "      <td>s7552</td>\n",
       "      <td>Movie</td>\n",
       "      <td>What Happened to Mr. Cha?</td>\n",
       "      <td>Cha In-pyo, Cho Dal-hwan, Song Jae-ryong</td>\n",
       "      <td>South Korea</td>\n",
       "      <td>January 1, 2021</td>\n",
       "      <td>2021</td>\n",
       "      <td>TV-MA</td>\n",
       "      <td>102 min</td>\n",
       "      <td>Comedies, International Movies</td>\n",
       "      <td>With the peak of his career long behind him, a...</td>\n",
       "    </tr>\n",
       "    <tr>\n",
       "      <td>1285</td>\n",
       "      <td>s1286</td>\n",
       "      <td>Movie</td>\n",
       "      <td>Charming</td>\n",
       "      <td>Wilmer Valderrama, Demi Lovato, Sia, Nia Varda...</td>\n",
       "      <td>Canada, United States, Cayman Islands</td>\n",
       "      <td>January 8, 2021</td>\n",
       "      <td>2021</td>\n",
       "      <td>TV-Y7</td>\n",
       "      <td>85 min</td>\n",
       "      <td>Children &amp; Family Movies, Comedies</td>\n",
       "      <td>On the eve of his 21st birthday, an adored pri...</td>\n",
       "    </tr>\n",
       "    <tr>\n",
       "      <td>7569</td>\n",
       "      <td>s7570</td>\n",
       "      <td>Movie</td>\n",
       "      <td>What Would Sophia Loren Do?</td>\n",
       "      <td>Nancy \"Vincenza Careri\" Kulik, Sophia Loren</td>\n",
       "      <td>United States</td>\n",
       "      <td>January 15, 2021</td>\n",
       "      <td>2021</td>\n",
       "      <td>TV-14</td>\n",
       "      <td>32 min</td>\n",
       "      <td>Documentaries</td>\n",
       "      <td>In this delightful short documentary, an Itali...</td>\n",
       "    </tr>\n",
       "  </tbody>\n",
       "</table>\n",
       "</div>"
      ],
      "text/plain": [
       "     show_id   type                        title  \\\n",
       "3111   s3112  Movie                 Jai Mummy Di   \n",
       "5859   s5860  Movie                  Stuck Apart   \n",
       "7551   s7552  Movie    What Happened to Mr. Cha?   \n",
       "1285   s1286  Movie                     Charming   \n",
       "7569   s7570  Movie  What Would Sophia Loren Do?   \n",
       "\n",
       "                                                   cast  \\\n",
       "3111  Poonam Dhillon, Supriya Pathak, Sunny Singh, S...   \n",
       "5859  Engin Günaydın, Haluk Bilginer, Binnur Kaya, Ö...   \n",
       "7551           Cha In-pyo, Cho Dal-hwan, Song Jae-ryong   \n",
       "1285  Wilmer Valderrama, Demi Lovato, Sia, Nia Varda...   \n",
       "7569        Nancy \"Vincenza Careri\" Kulik, Sophia Loren   \n",
       "\n",
       "                                    country        date_added  release_year  \\\n",
       "3111                                  India    March 14, 2020          2020   \n",
       "5859                                 Turkey   January 8, 2021          2021   \n",
       "7551                            South Korea   January 1, 2021          2021   \n",
       "1285  Canada, United States, Cayman Islands   January 8, 2021          2021   \n",
       "7569                          United States  January 15, 2021          2021   \n",
       "\n",
       "     rating duration                                        listed_in  \\\n",
       "3111  TV-MA  101 min  Comedies, International Movies, Romantic Movies   \n",
       "5859  TV-MA   97 min           Comedies, Dramas, International Movies   \n",
       "7551  TV-MA  102 min                   Comedies, International Movies   \n",
       "1285  TV-Y7   85 min               Children & Family Movies, Comedies   \n",
       "7569  TV-14   32 min                                    Documentaries   \n",
       "\n",
       "                                            description  \n",
       "3111  Sick of keeping their love a secret from their...  \n",
       "5859  Entrenched in a midlife crisis, Aziz seeks sol...  \n",
       "7551  With the peak of his career long behind him, a...  \n",
       "1285  On the eve of his 21st birthday, an adored pri...  \n",
       "7569  In this delightful short documentary, an Itali...  "
      ]
     },
     "execution_count": 37,
     "metadata": {},
     "output_type": "execute_result"
    }
   ],
   "source": [
    "#5 movie yg baru rilis\n",
    "datanetflix[datanetflix['type']=='Movie'].sort_values('release_year').tail(5)"
   ]
  },
  {
   "cell_type": "code",
   "execution_count": 71,
   "metadata": {},
   "outputs": [
    {
     "data": {
      "text/html": [
       "<div>\n",
       "<style scoped>\n",
       "    .dataframe tbody tr th:only-of-type {\n",
       "        vertical-align: middle;\n",
       "    }\n",
       "\n",
       "    .dataframe tbody tr th {\n",
       "        vertical-align: top;\n",
       "    }\n",
       "\n",
       "    .dataframe thead th {\n",
       "        text-align: right;\n",
       "    }\n",
       "</style>\n",
       "<table border=\"1\" class=\"dataframe\">\n",
       "  <thead>\n",
       "    <tr style=\"text-align: right;\">\n",
       "      <th></th>\n",
       "      <th>show_id</th>\n",
       "      <th>type</th>\n",
       "      <th>title</th>\n",
       "      <th>director</th>\n",
       "      <th>cast</th>\n",
       "      <th>country</th>\n",
       "      <th>date_added</th>\n",
       "      <th>release_year</th>\n",
       "      <th>rating</th>\n",
       "      <th>duration</th>\n",
       "      <th>listed_in</th>\n",
       "      <th>description</th>\n",
       "    </tr>\n",
       "  </thead>\n",
       "  <tbody>\n",
       "    <tr>\n",
       "      <td>0</td>\n",
       "      <td>s1</td>\n",
       "      <td>TV Show</td>\n",
       "      <td>3%</td>\n",
       "      <td>NaN</td>\n",
       "      <td>João Miguel, Bianca Comparato, Michel Gomes, R...</td>\n",
       "      <td>Brazil</td>\n",
       "      <td>August 14, 2020</td>\n",
       "      <td>2020</td>\n",
       "      <td>TV-MA</td>\n",
       "      <td>4 Seasons</td>\n",
       "      <td>International TV Shows, TV Dramas, TV Sci-Fi &amp;...</td>\n",
       "      <td>In a future where the elite inhabit an island ...</td>\n",
       "    </tr>\n",
       "    <tr>\n",
       "      <td>1</td>\n",
       "      <td>s2</td>\n",
       "      <td>Movie</td>\n",
       "      <td>7:19</td>\n",
       "      <td>Jorge Michel Grau</td>\n",
       "      <td>Demián Bichir, Héctor Bonilla, Oscar Serrano, ...</td>\n",
       "      <td>Mexico</td>\n",
       "      <td>December 23, 2016</td>\n",
       "      <td>2016</td>\n",
       "      <td>TV-MA</td>\n",
       "      <td>93 min</td>\n",
       "      <td>Dramas, International Movies</td>\n",
       "      <td>After a devastating earthquake hits Mexico Cit...</td>\n",
       "    </tr>\n",
       "    <tr>\n",
       "      <td>2</td>\n",
       "      <td>s3</td>\n",
       "      <td>Movie</td>\n",
       "      <td>23:59</td>\n",
       "      <td>Gilbert Chan</td>\n",
       "      <td>Tedd Chan, Stella Chung, Henley Hii, Lawrence ...</td>\n",
       "      <td>Singapore</td>\n",
       "      <td>December 20, 2018</td>\n",
       "      <td>2011</td>\n",
       "      <td>R</td>\n",
       "      <td>78 min</td>\n",
       "      <td>Horror Movies, International Movies</td>\n",
       "      <td>When an army recruit is found dead, his fellow...</td>\n",
       "    </tr>\n",
       "    <tr>\n",
       "      <td>3</td>\n",
       "      <td>s4</td>\n",
       "      <td>Movie</td>\n",
       "      <td>9</td>\n",
       "      <td>Shane Acker</td>\n",
       "      <td>Elijah Wood, John C. Reilly, Jennifer Connelly...</td>\n",
       "      <td>United States</td>\n",
       "      <td>November 16, 2017</td>\n",
       "      <td>2009</td>\n",
       "      <td>PG-13</td>\n",
       "      <td>80 min</td>\n",
       "      <td>Action &amp; Adventure, Independent Movies, Sci-Fi...</td>\n",
       "      <td>In a postapocalyptic world, rag-doll robots hi...</td>\n",
       "    </tr>\n",
       "    <tr>\n",
       "      <td>4</td>\n",
       "      <td>s5</td>\n",
       "      <td>Movie</td>\n",
       "      <td>21</td>\n",
       "      <td>Robert Luketic</td>\n",
       "      <td>Jim Sturgess, Kevin Spacey, Kate Bosworth, Aar...</td>\n",
       "      <td>United States</td>\n",
       "      <td>January 1, 2020</td>\n",
       "      <td>2008</td>\n",
       "      <td>PG-13</td>\n",
       "      <td>123 min</td>\n",
       "      <td>Dramas</td>\n",
       "      <td>A brilliant group of students become card-coun...</td>\n",
       "    </tr>\n",
       "    <tr>\n",
       "      <td>5</td>\n",
       "      <td>s6</td>\n",
       "      <td>TV Show</td>\n",
       "      <td>46</td>\n",
       "      <td>Serdar Akar</td>\n",
       "      <td>Erdal Beşikçioğlu, Yasemin Allen, Melis Birkan...</td>\n",
       "      <td>Turkey</td>\n",
       "      <td>July 1, 2017</td>\n",
       "      <td>2016</td>\n",
       "      <td>TV-MA</td>\n",
       "      <td>1 Season</td>\n",
       "      <td>International TV Shows, TV Dramas, TV Mysteries</td>\n",
       "      <td>A genetics professor experiments with a treatm...</td>\n",
       "    </tr>\n",
       "    <tr>\n",
       "      <td>6</td>\n",
       "      <td>s7</td>\n",
       "      <td>Movie</td>\n",
       "      <td>122</td>\n",
       "      <td>Yasir Al Yasiri</td>\n",
       "      <td>Amina Khalil, Ahmed Dawood, Tarek Lotfy, Ahmed...</td>\n",
       "      <td>Egypt</td>\n",
       "      <td>June 1, 2020</td>\n",
       "      <td>2019</td>\n",
       "      <td>TV-MA</td>\n",
       "      <td>95 min</td>\n",
       "      <td>Horror Movies, International Movies</td>\n",
       "      <td>After an awful accident, a couple admitted to ...</td>\n",
       "    </tr>\n",
       "    <tr>\n",
       "      <td>7</td>\n",
       "      <td>s8</td>\n",
       "      <td>Movie</td>\n",
       "      <td>187</td>\n",
       "      <td>Kevin Reynolds</td>\n",
       "      <td>Samuel L. Jackson, John Heard, Kelly Rowan, Cl...</td>\n",
       "      <td>United States</td>\n",
       "      <td>November 1, 2019</td>\n",
       "      <td>1997</td>\n",
       "      <td>R</td>\n",
       "      <td>119 min</td>\n",
       "      <td>Dramas</td>\n",
       "      <td>After one of his high school students attacks ...</td>\n",
       "    </tr>\n",
       "    <tr>\n",
       "      <td>8</td>\n",
       "      <td>s9</td>\n",
       "      <td>Movie</td>\n",
       "      <td>706</td>\n",
       "      <td>Shravan Kumar</td>\n",
       "      <td>Divya Dutta, Atul Kulkarni, Mohan Agashe, Anup...</td>\n",
       "      <td>India</td>\n",
       "      <td>April 1, 2019</td>\n",
       "      <td>2019</td>\n",
       "      <td>TV-14</td>\n",
       "      <td>118 min</td>\n",
       "      <td>Horror Movies, International Movies</td>\n",
       "      <td>When a doctor goes missing, his psychiatrist w...</td>\n",
       "    </tr>\n",
       "    <tr>\n",
       "      <td>9</td>\n",
       "      <td>s10</td>\n",
       "      <td>Movie</td>\n",
       "      <td>1920</td>\n",
       "      <td>Vikram Bhatt</td>\n",
       "      <td>Rajneesh Duggal, Adah Sharma, Indraneil Sengup...</td>\n",
       "      <td>India</td>\n",
       "      <td>December 15, 2017</td>\n",
       "      <td>2008</td>\n",
       "      <td>TV-MA</td>\n",
       "      <td>143 min</td>\n",
       "      <td>Horror Movies, International Movies, Thrillers</td>\n",
       "      <td>An architect and his wife move into a castle t...</td>\n",
       "    </tr>\n",
       "  </tbody>\n",
       "</table>\n",
       "</div>"
      ],
      "text/plain": [
       "  show_id     type  title           director  \\\n",
       "0      s1  TV Show     3%                NaN   \n",
       "1      s2    Movie   7:19  Jorge Michel Grau   \n",
       "2      s3    Movie  23:59       Gilbert Chan   \n",
       "3      s4    Movie      9        Shane Acker   \n",
       "4      s5    Movie     21     Robert Luketic   \n",
       "5      s6  TV Show     46        Serdar Akar   \n",
       "6      s7    Movie    122    Yasir Al Yasiri   \n",
       "7      s8    Movie    187     Kevin Reynolds   \n",
       "8      s9    Movie    706      Shravan Kumar   \n",
       "9     s10    Movie   1920       Vikram Bhatt   \n",
       "\n",
       "                                                cast        country  \\\n",
       "0  João Miguel, Bianca Comparato, Michel Gomes, R...         Brazil   \n",
       "1  Demián Bichir, Héctor Bonilla, Oscar Serrano, ...         Mexico   \n",
       "2  Tedd Chan, Stella Chung, Henley Hii, Lawrence ...      Singapore   \n",
       "3  Elijah Wood, John C. Reilly, Jennifer Connelly...  United States   \n",
       "4  Jim Sturgess, Kevin Spacey, Kate Bosworth, Aar...  United States   \n",
       "5  Erdal Beşikçioğlu, Yasemin Allen, Melis Birkan...         Turkey   \n",
       "6  Amina Khalil, Ahmed Dawood, Tarek Lotfy, Ahmed...          Egypt   \n",
       "7  Samuel L. Jackson, John Heard, Kelly Rowan, Cl...  United States   \n",
       "8  Divya Dutta, Atul Kulkarni, Mohan Agashe, Anup...          India   \n",
       "9  Rajneesh Duggal, Adah Sharma, Indraneil Sengup...          India   \n",
       "\n",
       "          date_added  release_year rating   duration  \\\n",
       "0    August 14, 2020          2020  TV-MA  4 Seasons   \n",
       "1  December 23, 2016          2016  TV-MA     93 min   \n",
       "2  December 20, 2018          2011      R     78 min   \n",
       "3  November 16, 2017          2009  PG-13     80 min   \n",
       "4    January 1, 2020          2008  PG-13    123 min   \n",
       "5       July 1, 2017          2016  TV-MA   1 Season   \n",
       "6       June 1, 2020          2019  TV-MA     95 min   \n",
       "7   November 1, 2019          1997      R    119 min   \n",
       "8      April 1, 2019          2019  TV-14    118 min   \n",
       "9  December 15, 2017          2008  TV-MA    143 min   \n",
       "\n",
       "                                           listed_in  \\\n",
       "0  International TV Shows, TV Dramas, TV Sci-Fi &...   \n",
       "1                       Dramas, International Movies   \n",
       "2                Horror Movies, International Movies   \n",
       "3  Action & Adventure, Independent Movies, Sci-Fi...   \n",
       "4                                             Dramas   \n",
       "5    International TV Shows, TV Dramas, TV Mysteries   \n",
       "6                Horror Movies, International Movies   \n",
       "7                                             Dramas   \n",
       "8                Horror Movies, International Movies   \n",
       "9     Horror Movies, International Movies, Thrillers   \n",
       "\n",
       "                                         description  \n",
       "0  In a future where the elite inhabit an island ...  \n",
       "1  After a devastating earthquake hits Mexico Cit...  \n",
       "2  When an army recruit is found dead, his fellow...  \n",
       "3  In a postapocalyptic world, rag-doll robots hi...  \n",
       "4  A brilliant group of students become card-coun...  \n",
       "5  A genetics professor experiments with a treatm...  \n",
       "6  After an awful accident, a couple admitted to ...  \n",
       "7  After one of his high school students attacks ...  \n",
       "8  When a doctor goes missing, his psychiatrist w...  \n",
       "9  An architect and his wife move into a castle t...  "
      ]
     },
     "execution_count": 71,
     "metadata": {},
     "output_type": "execute_result"
    }
   ],
   "source": [
    "netflix = pd.read_csv('Kelompok 4 Netflix Shows.csv')\n",
    "netflix.head(10)\n"
   ]
  },
  {
   "cell_type": "code",
   "execution_count": 72,
   "metadata": {},
   "outputs": [
    {
     "name": "stdout",
     "output_type": "stream",
     "text": [
      "<class 'pandas.core.frame.DataFrame'>\n",
      "RangeIndex: 7787 entries, 0 to 7786\n",
      "Data columns (total 12 columns):\n",
      "show_id         7787 non-null object\n",
      "type            7787 non-null object\n",
      "title           7787 non-null object\n",
      "director        5398 non-null object\n",
      "cast            7069 non-null object\n",
      "country         7280 non-null object\n",
      "date_added      7777 non-null object\n",
      "release_year    7787 non-null int64\n",
      "rating          7780 non-null object\n",
      "duration        7787 non-null object\n",
      "listed_in       7787 non-null object\n",
      "description     7787 non-null object\n",
      "dtypes: int64(1), object(11)\n",
      "memory usage: 730.2+ KB\n"
     ]
    }
   ],
   "source": [
    "netflix.info()"
   ]
  },
  {
   "cell_type": "code",
   "execution_count": 73,
   "metadata": {},
   "outputs": [],
   "source": [
    "dnetflix= netflix.dropna()"
   ]
  },
  {
   "cell_type": "code",
   "execution_count": 75,
   "metadata": {},
   "outputs": [
    {
     "name": "stdout",
     "output_type": "stream",
     "text": [
      "<class 'pandas.core.frame.DataFrame'>\n",
      "Int64Index: 4808 entries, 1 to 7783\n",
      "Data columns (total 12 columns):\n",
      "show_id         4808 non-null object\n",
      "type            4808 non-null object\n",
      "title           4808 non-null object\n",
      "director        4808 non-null object\n",
      "cast            4808 non-null object\n",
      "country         4808 non-null object\n",
      "date_added      4808 non-null object\n",
      "release_year    4808 non-null int64\n",
      "rating          4808 non-null object\n",
      "duration        4808 non-null object\n",
      "listed_in       4808 non-null object\n",
      "description     4808 non-null object\n",
      "dtypes: int64(1), object(11)\n",
      "memory usage: 488.3+ KB\n"
     ]
    }
   ],
   "source": [
    "dnetflix.info()"
   ]
  },
  {
   "cell_type": "code",
   "execution_count": 79,
   "metadata": {},
   "outputs": [
    {
     "data": {
      "text/plain": [
       "Text(0.5, 1.0, 'director terbanyak')"
      ]
     },
     "execution_count": 79,
     "metadata": {},
     "output_type": "execute_result"
    },
    {
     "data": {
      "image/png": "[encoded data removed]",
      "text/plain": [
       "<Figure size 864x576 with 1 Axes>"
      ]
     },
     "metadata": {},
     "output_type": "display_data"
    }
   ],
   "source": [
    "director = dnetflix.groupby(dnetflix['director'])['director'].count().sort_values(ascending = False).head(10)\n",
    "plt.figure(figsize=(12,8))\n",
    "plt.subplot()\n",
    "director.plot.pie(autopct = '%1.f%%', shadow = True, fontsize = 15)\n",
    "plt.title(\"director terbanyak\")"
   ]
  },
  {
   "cell_type": "code",
   "execution_count": 80,
   "metadata": {},
   "outputs": [
    {
     "data": {
      "text/plain": [
       "Raúl Campos, Jan Suter    18\n",
       "Marcus Raboy              15\n",
       "Jay Karas                 14\n",
       "Cathy Garcia-Molina       13\n",
       "Jay Chapman               12\n",
       "Youssef Chahine           12\n",
       "Martin Scorsese           12\n",
       "Steven Spielberg          10\n",
       "David Dhawan               9\n",
       "Hakan Algül                8\n",
       "Name: director, dtype: int64"
      ]
     },
     "execution_count": 80,
     "metadata": {},
     "output_type": "execute_result"
    }
   ],
   "source": [
    "drc= dnetflix['director'].value_counts().head(10)\n",
    "drc"
   ]
  },
  {
   "cell_type": "code",
   "execution_count": 81,
   "metadata": {},
   "outputs": [
    {
     "data": {
      "text/plain": [
       "<matplotlib.axes._subplots.AxesSubplot at 0x27ffdf3af08>"
      ]
     },
     "execution_count": 81,
     "metadata": {},
     "output_type": "execute_result"
    },
    {
     "data": {
      "image/png": "[encoded data removed]",
      "text/plain": [
       "<Figure size 432x288 with 1 Axes>"
      ]
     },
     "metadata": {
      "needs_background": "light"
     },
     "output_type": "display_data"
    }
   ],
   "source": [
    "sns.barplot(x=drc.values,y=drc.index)"
   ]
  },
  {
   "cell_type": "code",
   "execution_count": 77,
   "metadata": {},
   "outputs": [
    {
     "data": {
      "text/plain": [
       "<matplotlib.axes._subplots.AxesSubplot at 0x27ff9592bc8>"
      ]
     },
     "execution_count": 77,
     "metadata": {},
     "output_type": "execute_result"
    },
    {
     "data": {
      "image/png": "[encoded data removed]",
      "text/plain": [
       "<Figure size 432x288 with 1 Axes>"
      ]
     },
     "metadata": {
      "needs_background": "light"
     },
     "output_type": "display_data"
    }
   ],
   "source": [
    "dnetflix.groupby('type').director.value_counts()['TV Show'][:10].plot(kind='bar')"
   ]
  },
  {
   "cell_type": "code",
   "execution_count": 76,
   "metadata": {},
   "outputs": [
    {
     "data": {
      "text/plain": [
       "<matplotlib.axes._subplots.AxesSubplot at 0x27ffa326388>"
      ]
     },
     "execution_count": 76,
     "metadata": {},
     "output_type": "execute_result"
    },
    {
     "data": {
      "image/png": "[encoded data removed]",
      "text/plain": [
       "<Figure size 432x288 with 1 Axes>"
      ]
     },
     "metadata": {
      "needs_background": "light"
     },
     "output_type": "display_data"
    }
   ],
   "source": [
    "dnetflix.groupby('type').director.value_counts()['Movie'][:10].plot(kind='bar')"
   ]
  }
 ],
 "metadata": {
  "kernelspec": {
   "display_name": "Python 3",
   "language": "python",
   "name": "python3"
  },
  "language_info": {
   "codemirror_mode": {
    "name": "ipython",
    "version": 3
   },
   "file_extension": ".py",
   "mimetype": "text/x-python",
   "name": "python",
   "nbconvert_exporter": "python",
   "pygments_lexer": "ipython3",
   "version": "3.7.4"
  }
 },
 "nbformat": 4,
 "nbformat_minor": 2
}
